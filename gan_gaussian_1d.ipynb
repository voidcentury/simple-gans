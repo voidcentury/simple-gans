{
 "cells": [
  {
   "cell_type": "code",
   "execution_count": 2,
   "metadata": {},
   "outputs": [],
   "source": [
    "import datetime\n",
    "import numpy as np\n",
    "import matplotlib.pyplot as plt\n",
    "import seaborn as sns\n",
    "import torch\n",
    "from torch import nn\n",
    "from torch.distributions import normal, uniform\n",
    "from torch.utils.data import Dataset, DataLoader"
   ]
  },
  {
   "cell_type": "code",
   "execution_count": 3,
   "metadata": {},
   "outputs": [],
   "source": [
    "class NormalDataset():\n",
    "    def __init__(self, size, seed=123):\n",
    "        torch.manual_seed(seed)\n",
    "        self.size = size\n",
    "        scale = 1\n",
    "        offset = 0\n",
    "        \n",
    "        norm = normal.Normal(4, 1)\n",
    "        x = norm.sample(sample_shape=torch.Size([size, 1]))\n",
    "        self.points = x\n",
    "    \n",
    "    def __len__(self):\n",
    "        return self.size\n",
    "    \n",
    "    def __getitem__(self, idx):\n",
    "        if torch.is_tensor(idx):\n",
    "            idx = idx.tolist()\n",
    "            \n",
    "        sample = self.points[idx]\n",
    "        return sample"
   ]
  },
  {
   "cell_type": "code",
   "execution_count": 4,
   "metadata": {},
   "outputs": [
    {
     "data": {
      "image/png": "[encoded data removed]",
      "text/plain": [
       "<Figure size 432x288 with 1 Axes>"
      ]
     },
     "metadata": {
      "needs_background": "light"
     },
     "output_type": "display_data"
    }
   ],
   "source": [
    "norm = NormalDataset(10000)\n",
    "points = norm[np.arange(10000)]\n",
    "plt.hist(points.numpy()[:,0], bins=100)\n",
    "plt.show()"
   ]
  },
  {
   "cell_type": "code",
   "execution_count": 5,
   "metadata": {},
   "outputs": [],
   "source": [
    "class Discriminator(nn.Module):\n",
    "    def __init__(self):\n",
    "        super(Discriminator, self).__init__()\n",
    "        hidden_size = 4\n",
    "        \n",
    "        self.hidden0 = nn.Sequential(\n",
    "            nn.Linear(1, hidden_size),\n",
    "            nn.LeakyReLU(inplace=True)\n",
    "        )\n",
    "        self.hidden1 = nn.Sequential(\n",
    "            nn.Linear(hidden_size, hidden_size),\n",
    "            nn.LeakyReLU(inplace=True)\n",
    "        )\n",
    "        self.hidden2 = nn.Sequential(\n",
    "            nn.Linear(hidden_size, 1),\n",
    "            nn.Sigmoid()\n",
    "        )\n",
    "    \n",
    "    def forward(self, x):\n",
    "        x = self.hidden0(x)\n",
    "        x = self.hidden1(x)\n",
    "        x = self.hidden2(x)\n",
    "        return x"
   ]
  },
  {
   "cell_type": "code",
   "execution_count": 6,
   "metadata": {},
   "outputs": [],
   "source": [
    "class Generator(nn.Module):\n",
    "    def __init__(self):\n",
    "        super(Generator, self).__init__()\n",
    "        hidden_size = 4\n",
    "        \n",
    "        self.hidden0 = nn.Sequential(\n",
    "            nn.Linear(1, hidden_size),\n",
    "            nn.LeakyReLU(inplace=True)\n",
    "        )\n",
    "        \n",
    "        self.hidden1 = nn.Sequential(\n",
    "            nn.Linear(hidden_size, hidden_size),\n",
    "            nn.LeakyReLU(inplace=True)\n",
    "        )\n",
    "\n",
    "        self.hidden2 = nn.Linear(hidden_size, 1)\n",
    "        \n",
    "    def forward(self, x):\n",
    "        x = self.hidden0(x)\n",
    "        x = self.hidden1(x)\n",
    "        x = self.hidden2(x)\n",
    "        return x"
   ]
  },
  {
   "cell_type": "code",
   "execution_count": 7,
   "metadata": {},
   "outputs": [],
   "source": [
    "def z_uniform(size, range_=10.0):\n",
    "    unif = uniform.Uniform(-range_/2, range_/2)\n",
    "    return unif.sample(sample_shape=torch.Size([size])).reshape(-1, 1)"
   ]
  },
  {
   "cell_type": "code",
   "execution_count": 8,
   "metadata": {},
   "outputs": [],
   "source": [
    "def train_discriminator(real_data, gen_data, discriminator, optimizer):\n",
    "    optimizer.zero_grad()\n",
    "    \n",
    "    real_pred = discriminator(real_data)\n",
    "    real_loss = nn.BCELoss()(real_pred, torch.ones_like(real_pred))\n",
    "    real_loss.backward()\n",
    "    \n",
    "    gen_pred = discriminator(gen_data)\n",
    "    gen_loss = nn.BCELoss()(1 - gen_pred, torch.ones_like(gen_pred))\n",
    "    gen_loss.backward()\n",
    "    \n",
    "    optimizer.step()\n",
    "    \n",
    "    return real_loss, gen_loss"
   ]
  },
  {
   "cell_type": "code",
   "execution_count": 9,
   "metadata": {},
   "outputs": [],
   "source": [
    "def train_generator(z, generator, discriminator, optimizer):\n",
    "    optimizer.zero_grad()\n",
    "    \n",
    "    gen_data = generator(z)\n",
    "    gen_pred = discriminator(gen_data)\n",
    "    gen_loss = nn.BCELoss()(gen_pred, torch.ones_like(gen_pred))\n",
    "    gen_loss.backward()\n",
    "    \n",
    "    optimizer.step()\n",
    "    \n",
    "    return gen_loss"
   ]
  },
  {
   "cell_type": "code",
   "execution_count": 13,
   "metadata": {},
   "outputs": [
    {
     "data": {
      "image/png": "[encoded data removed]",
      "text/plain": [
       "<Figure size 432x288 with 1 Axes>"
      ]
     },
     "metadata": {
      "needs_background": "light"
     },
     "output_type": "display_data"
    }
   ],
   "source": [
    "x_lin = torch.tensor(np.linspace(-10.0, 10.0, num=50).reshape(-1, 1), dtype=torch.float32)\n",
    "\n",
    "discriminator = Discriminator()\n",
    "generator = Generator()\n",
    "dis = discriminator(x_lin).detach().numpy()\n",
    "gen = generator(z_uniform(1000)).detach().numpy()\n",
    "\n",
    "ax = sns.distplot(points[:,0], label='true')\n",
    "bx = sns.distplot(gen[:,0], label='generated')\n",
    "cx = plt.scatter(x_lin, dis, label='decision', marker='x')\n",
    "plt.legend()\n",
    "plt.show()"
   ]
  },
  {
   "cell_type": "code",
   "execution_count": 27,
   "metadata": {
    "scrolled": true
   },
   "outputs": [
    {
     "name": "stdout",
     "output_type": "stream",
     "text": [
      "Epoch: 1; D_loss: 1.360369789372584; G_loss: 0.6108761119741289\n",
      "0.5775004029273987 0.7572705745697021\n",
      "\n",
      "Epoch: 3; D_loss: 1.2118174710218061; G_loss: 0.6807240852631328\n",
      "0.4471297264099121 0.6958326697349548\n",
      "\n",
      "Epoch: 5; D_loss: 0.8972511994484377; G_loss: 0.764737124908755\n",
      "0.24224302172660828 0.5915396213531494\n",
      "\n",
      "Epoch: 7; D_loss: 0.9659459140080555; G_loss: 0.8431351096260573\n",
      "0.4605139493942261 0.7459067702293396\n",
      "\n",
      "Epoch: 9; D_loss: 1.6144225954250166; G_loss: 0.9503314398909324\n",
      "1.0622974634170532 0.40023425221443176\n",
      "\n",
      "Epoch: 11; D_loss: 1.3950900978343501; G_loss: 0.8271980809557969\n",
      "0.7940561771392822 0.5958030819892883\n",
      "\n",
      "Epoch: 13; D_loss: 1.3841952411991776; G_loss: 0.7784405000144002\n",
      "0.7667450308799744 0.6178247332572937\n",
      "\n",
      "Epoch: 15; D_loss: 1.3769224321513165; G_loss: 0.7743207479485028\n",
      "0.7580411434173584 0.6197787523269653\n",
      "\n",
      "Epoch: 17; D_loss: 1.3730446977220523; G_loss: 0.7665601069000876\n",
      "0.7509304881095886 0.6256152391433716\n",
      "\n",
      "Epoch: 19; D_loss: 1.3736166878111045; G_loss: 0.7505606779880079\n",
      "0.7243425250053406 0.6471630334854126\n",
      "\n",
      "Epoch: 21; D_loss: 1.3785803572387452; G_loss: 0.7272675561297471\n",
      "0.7056177854537964 0.6678064465522766\n",
      "\n",
      "Epoch: 23; D_loss: 1.3847405377720066; G_loss: 0.7036960989300106\n",
      "0.695739209651947 0.6901278495788574\n",
      "\n",
      "Epoch: 25; D_loss: 1.389639824185908; G_loss: 0.6848204023266041\n",
      "0.6896907687187195 0.7078995704650879\n",
      "\n",
      "Epoch: 27; D_loss: 1.3924484819869833; G_loss: 0.6711245896709952\n",
      "0.6790609359741211 0.7197812795639038\n",
      "\n",
      "Epoch: 29; D_loss: 1.3928763408316676; G_loss: 0.6626034058836109\n",
      "0.6681929230690002 0.7268897294998169\n",
      "\n",
      "Epoch: 31; D_loss: 1.3917493277294621; G_loss: 0.6580803954930315\n",
      "0.6606946587562561 0.7315672039985657\n",
      "\n",
      "Epoch: 33; D_loss: 1.3896721500246894; G_loss: 0.6566070918064968\n",
      "0.6579171419143677 0.7308236956596375\n",
      "\n",
      "Epoch: 35; D_loss: 1.3873483224785759; G_loss: 0.6570304005768648\n",
      "0.6567069292068481 0.7299915552139282\n",
      "\n",
      "Epoch: 37; D_loss: 1.3852488011311574; G_loss: 0.6591098956494827\n",
      "0.655678391456604 0.7275646924972534\n",
      "\n",
      "Epoch: 39; D_loss: 1.3836948278097083; G_loss: 0.661803723393985\n",
      "0.6597771048545837 0.7248141169548035\n",
      "\n",
      "Epoch: 41; D_loss: 1.3827197353045146; G_loss: 0.6651017072347573\n",
      "0.6597152948379517 0.7203992009162903\n",
      "\n",
      "Epoch: 43; D_loss: 1.3826447626587692; G_loss: 0.6699304414909104\n",
      "0.6665043830871582 0.7164139151573181\n",
      "\n",
      "Epoch: 45; D_loss: 1.3834523916750703; G_loss: 0.6756233370481276\n",
      "0.6791689395904541 0.7094786763191223\n",
      "\n",
      "Epoch: 47; D_loss: 1.384625851601805; G_loss: 0.681944558448346\n",
      "0.6808345317840576 0.7024586796760559\n",
      "\n",
      "Epoch: 49; D_loss: 1.3860454936442608; G_loss: 0.6889073947432695\n",
      "0.692988395690918 0.6973091959953308\n",
      "\n",
      "Epoch: 51; D_loss: 1.3874459809558406; G_loss: 0.6965733227456451\n",
      "0.701557993888855 0.687340259552002\n",
      "\n",
      "Epoch: 53; D_loss: 1.388377072325178; G_loss: 0.7036617181862995\n",
      "0.7085223197937012 0.683699905872345\n",
      "\n",
      "Epoch: 55; D_loss: 1.3885076097875138; G_loss: 0.7084671247536969\n",
      "0.7129533290863037 0.6754518747329712\n",
      "\n",
      "Epoch: 57; D_loss: 1.3882791773275711; G_loss: 0.7133951938835679\n",
      "0.7162594795227051 0.6717571020126343\n",
      "\n",
      "Epoch: 59; D_loss: 1.3875751085342116; G_loss: 0.7164340702591429\n",
      "0.7176550626754761 0.6696467995643616\n",
      "\n",
      "Epoch: 61; D_loss: 1.386684812431376; G_loss: 0.718349016016456\n",
      "0.7183980941772461 0.6679992079734802\n",
      "\n",
      "Epoch: 63; D_loss: 1.3858483646326005; G_loss: 0.7180933017133401\n",
      "0.715674638748169 0.6692742109298706\n",
      "\n",
      "Epoch: 65; D_loss: 1.3852601847324655; G_loss: 0.716293245617245\n",
      "0.7144768834114075 0.6718909740447998\n",
      "\n",
      "Epoch: 67; D_loss: 1.384958523473922; G_loss: 0.7125185801471621\n",
      "0.7105430960655212 0.6742525100708008\n",
      "\n",
      "Epoch: 69; D_loss: 1.3851442957126918; G_loss: 0.7078673706692495\n",
      "0.7044199705123901 0.6805007457733154\n",
      "\n",
      "Epoch: 71; D_loss: 1.3855469776060425; G_loss: 0.7022551403177265\n",
      "0.7007976770401001 0.6848484873771667\n",
      "\n",
      "Epoch: 73; D_loss: 1.3859979806432299; G_loss: 0.6973432074686524\n",
      "0.6962908506393433 0.690140426158905\n",
      "\n",
      "Epoch: 75; D_loss: 1.3865295696663502; G_loss: 0.6924427695841293\n",
      "0.6902150511741638 0.6956347823143005\n",
      "\n",
      "Epoch: 77; D_loss: 1.386828757142312; G_loss: 0.6883053908682173\n",
      "0.6865809559822083 0.6993093490600586\n",
      "\n",
      "Epoch: 79; D_loss: 1.3869682878192569; G_loss: 0.6849110345425373\n",
      "0.6859912276268005 0.701012372970581\n",
      "\n"
     ]
    }
   ],
   "source": [
    "mini_batch_size = 64\n",
    "lr_d = 0.0001\n",
    "lr_g = 0.0001\n",
    "d_steps = 3\n",
    "g_steps = 3\n",
    "comment = \"\"\n",
    "\n",
    "dataloader = DataLoader(norm, batch_size=mini_batch_size,\n",
    "                        shuffle=True, num_workers=1)\n",
    "z_val = z_uniform(500)\n",
    "\n",
    "discriminator = Discriminator()\n",
    "generator = Generator()\n",
    "\n",
    "d_optimizer = torch.optim.SGD(discriminator.parameters(), lr=lr_d, momentum=0.9)\n",
    "g_optimizer = torch.optim.SGD(generator.parameters(), lr=lr_g, momentum=0.9)\n",
    "\n",
    "losses_g, losses_d = [], []\n",
    "\n",
    "for epoch in range(80):\n",
    "    _losses_d = []\n",
    "    _losses_g = []\n",
    "    for i, data in enumerate(dataloader):\n",
    "        \n",
    "        for _ in range(d_steps):\n",
    "            gen_data = generator(z_uniform(mini_batch_size)).detach()\n",
    "            loss_d_real, loss_d_gen = train_discriminator(data, gen_data, discriminator, d_optimizer)\n",
    "            _losses_d.append(loss_d_real.item() + loss_d_gen.item())\n",
    "        \n",
    "        for _ in range(g_steps):\n",
    "            z = z_uniform(mini_batch_size)\n",
    "            loss_g = train_generator(z, generator, discriminator, g_optimizer)\n",
    "            _losses_g.append(loss_g.item())\n",
    "    \n",
    "    losses_g.append(np.mean(_losses_g))\n",
    "    losses_d.append(np.mean(_losses_d))\n",
    "    if epoch % 2 == 0:\n",
    "        print(\"Epoch: {}; D_loss: {}; G_loss: {}\".format(\n",
    "            epoch+1, np.mean(_losses_d), np.mean(_losses_g)))\n",
    "        print(loss_d_real.item(), loss_d_gen.item())\n",
    "        print()"
   ]
  },
  {
   "cell_type": "code",
   "execution_count": 28,
   "metadata": {},
   "outputs": [
    {
     "data": {
      "image/png": "[encoded data removed]",
      "text/plain": [
       "<Figure size 432x288 with 1 Axes>"
      ]
     },
     "metadata": {
      "needs_background": "light"
     },
     "output_type": "display_data"
    }
   ],
   "source": [
    "plt.plot(losses_d, label='D')\n",
    "plt.plot(losses_g, label='G')\n",
    "plt.legend()\n",
    "plt.show()"
   ]
  },
  {
   "cell_type": "code",
   "execution_count": 29,
   "metadata": {},
   "outputs": [
    {
     "data": {
      "image/png": "[encoded data removed]",
      "text/plain": [
       "<Figure size 432x288 with 1 Axes>"
      ]
     },
     "metadata": {
      "needs_background": "light"
     },
     "output_type": "display_data"
    }
   ],
   "source": [
    "ax = sns.distplot(points.numpy()[:,0], label='true')\n",
    "x_lin = torch.tensor(np.linspace(-10.0, 10.0, num=50).reshape(-1, 1), dtype=torch.float32)\n",
    "\n",
    "with torch.no_grad():\n",
    "    gen = generator(z_val).numpy()\n",
    "    dis = discriminator(x_lin).numpy()\n",
    "bx = sns.distplot(gen[:,0], label='generated')\n",
    "cx = plt.scatter(x_lin, dis, label='decision', marker='x')\n",
    "plt.legend()\n",
    "plt.show()"
   ]
  }
 ],
 "metadata": {
  "kernelspec": {
   "display_name": "Python 3",
   "language": "python",
   "name": "python3"
  },
  "language_info": {
   "codemirror_mode": {
    "name": "ipython",
    "version": 3
   },
   "file_extension": ".py",
   "mimetype": "text/x-python",
   "name": "python",
   "nbconvert_exporter": "python",
   "pygments_lexer": "ipython3",
   "version": "3.7.3"
  }
 },
 "nbformat": 4,
 "nbformat_minor": 2
}
